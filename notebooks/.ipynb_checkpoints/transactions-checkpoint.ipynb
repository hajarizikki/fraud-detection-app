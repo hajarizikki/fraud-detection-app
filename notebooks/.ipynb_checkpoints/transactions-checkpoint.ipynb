{
 "cells": [
  {
   "cell_type": "code",
   "execution_count": 9,
   "id": "5092c325-35bb-4064-805f-993ed0fc8ca8",
   "metadata": {
    "scrolled": true
   },
   "outputs": [
    {
     "name": "stdout",
     "output_type": "stream",
     "text": [
      "Status code: 500\n",
      "Response: {'error': \"[UNRESOLVED_COLUMN.WITH_SUGGESTION] A column or function parameter with name `type_indexed` cannot be resolved. Did you mean one of the following? [`typeIdx`, `type`, `amount`, `step`, `oldbalanceOrg`].;\\n'Project ['type_indexed, amount#127, oldbalanceOrg#129, newbalanceOrig#128, 'oldbalanceDest, 'newbalanceDest]\\n+- Project [amount#127, newbalanceOrig#128, oldbalanceOrg#129, step#130L, type#131, UDF(cast(type#131 as string)) AS typeIdx#140]\\n   +- LogicalRDD [amount#127, newbalanceOrig#128, oldbalanceOrg#129, step#130L, type#131], false\\n\"}\n"
     ]
    }
   ],
   "source": [
    "import requests\n",
    "\n",
    "transaction = {\n",
    "  \"type\": \"TRANSFER\",\n",
    "  \"step\": 1,\n",
    "  \"amount\": 500.0,\n",
    "  \"oldbalanceOrg\": 1000.0,\n",
    "  \"newbalanceOrig\": 500.0\n",
    "}\n",
    "\n",
    "\n",
    "# Si tu es sur Jupyter Docker, remplace par host.docker.internal\n",
    "url = \"http://api:5000/predict\"\n",
    "\n",
    "response = requests.post(url, json=transaction)\n",
    "\n",
    "print(\"Status code:\", response.status_code)\n",
    "print(\"Response:\", response.json())\n"
   ]
  },
  {
   "cell_type": "code",
   "execution_count": null,
   "id": "16335ff3-a1b0-4fe5-8f13-89e3861abfe1",
   "metadata": {},
   "outputs": [],
   "source": []
  }
 ],
 "metadata": {
  "kernelspec": {
   "display_name": "Python 3 (ipykernel)",
   "language": "python",
   "name": "python3"
  },
  "language_info": {
   "codemirror_mode": {
    "name": "ipython",
    "version": 3
   },
   "file_extension": ".py",
   "mimetype": "text/x-python",
   "name": "python",
   "nbconvert_exporter": "python",
   "pygments_lexer": "ipython3",
   "version": "3.11.6"
  }
 },
 "nbformat": 4,
 "nbformat_minor": 5
}
