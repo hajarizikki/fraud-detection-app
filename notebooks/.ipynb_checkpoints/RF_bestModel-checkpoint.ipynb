{
 "cells": [
  {
   "cell_type": "code",
   "execution_count": 1,
   "id": "df40dc5f-1ce6-442f-a40e-343a6e57b19d",
   "metadata": {},
   "outputs": [],
   "source": [
    "from pyspark.sql import SparkSession\n",
    "from pyspark.sql.functions import col, count, when, isnan, lit\n",
    "from pyspark.ml import Pipeline\n",
    "from pyspark.ml.feature import StringIndexer, OneHotEncoder, VectorAssembler\n",
    "from pyspark.ml.classification import LogisticRegression, DecisionTreeClassifier, RandomForestClassifier\n",
    "from pyspark.ml.evaluation import BinaryClassificationEvaluator, MulticlassClassificationEvaluator\n",
    "from pyspark.mllib.evaluation import MulticlassMetrics"
   ]
  },
  {
   "cell_type": "code",
   "execution_count": 2,
   "id": "fe87fe9d-9fd4-42fe-965a-87517709fc23",
   "metadata": {},
   "outputs": [],
   "source": [
    "spark = SparkSession.builder \\\n",
    "    .appName(\"Bank Fraud Detection\") \\\n",
    "    .getOrCreate()"
   ]
  },
  {
   "cell_type": "code",
   "execution_count": 3,
   "id": "8809faa5-df74-4d0f-b82e-5302f3a54587",
   "metadata": {},
   "outputs": [],
   "source": [
    "df = spark.read.csv(\"hdfs://namenode:9000/user/fraude/input/frauddetectionsmall.csv\", header=True, inferSchema=True)"
   ]
  },
  {
   "cell_type": "code",
   "execution_count": 4,
   "id": "1be504f1-c30c-4501-aba3-0a0cf6175b5a",
   "metadata": {},
   "outputs": [
    {
     "name": "stdout",
     "output_type": "stream",
     "text": [
      "root\n",
      " |-- step: integer (nullable = true)\n",
      " |-- type: string (nullable = true)\n",
      " |-- amount: double (nullable = true)\n",
      " |-- nameOrig: string (nullable = true)\n",
      " |-- oldbalanceOrg: double (nullable = true)\n",
      " |-- newbalanceOrig: double (nullable = true)\n",
      " |-- nameDest: string (nullable = true)\n",
      " |-- oldbalanceDest: double (nullable = true)\n",
      " |-- newbalanceDest: double (nullable = true)\n",
      " |-- isFraud: integer (nullable = true)\n",
      " |-- isFlaggedFraud: integer (nullable = true)\n",
      "\n"
     ]
    }
   ],
   "source": [
    "df.printSchema()"
   ]
  },
  {
   "cell_type": "code",
   "execution_count": 5,
   "id": "ccdda138-0e00-42ce-9e1a-5ee7bdf8a47d",
   "metadata": {},
   "outputs": [
    {
     "data": {
      "text/plain": [
       "DataFrame[step: int, type: string, amount: double, nameOrig: string, oldbalanceOrg: double, newbalanceOrig: double, nameDest: string, oldbalanceDest: double, newbalanceDest: double, isFraud: int, isFlaggedFraud: int]"
      ]
     },
     "metadata": {},
     "output_type": "display_data"
    }
   ],
   "source": [
    "display(df)"
   ]
  },
  {
   "cell_type": "code",
   "execution_count": 6,
   "id": "36d4a528-3835-49ba-8eef-089239b6004b",
   "metadata": {},
   "outputs": [
    {
     "name": "stdout",
     "output_type": "stream",
     "text": [
      "Lignes totales      : 10200\n",
      "Lignes distinctes   : 10200\n",
      "Doublons supprimés : 0\n",
      "+----+----+------+--------+-------------+--------------+--------+--------------+--------------+-------+--------------+\n",
      "|step|type|amount|nameOrig|oldbalanceOrg|newbalanceOrig|nameDest|oldbalanceDest|newbalanceDest|isFraud|isFlaggedFraud|\n",
      "+----+----+------+--------+-------------+--------------+--------+--------------+--------------+-------+--------------+\n",
      "|   0|   0|     0|       0|            0|             0|       0|             0|             0|      0|             0|\n",
      "+----+----+------+--------+-------------+--------------+--------+--------------+--------------+-------+--------------+\n",
      "\n",
      "+-------+-----+\n",
      "|isFraud|count|\n",
      "+-------+-----+\n",
      "|      0|10132|\n",
      "|      1|   68|\n",
      "+-------+-----+\n",
      "\n"
     ]
    }
   ],
   "source": [
    "# 2) Combien de lignes / doublons ?\n",
    "total    = df.count()\n",
    "distinct = df.distinct().count()\n",
    "print(f\"Lignes totales      : {total}\")\n",
    "print(f\"Lignes distinctes   : {distinct}\")\n",
    "print(f\"Doublons supprimés : {total - distinct}\")\n",
    "\n",
    "# 3) Null / NaN par colonne\n",
    "missing = df.select([\n",
    "    count(when(col(c).isNull() | isnan(c), c)).alias(c)\n",
    "    for c in df.columns\n",
    "])\n",
    "missing.show()\n",
    "\n",
    "# 4) Répartition de la cible\n",
    "df.groupBy(\"isFraud\").count().orderBy(\"isFraud\").show()"
   ]
  },
  {
   "cell_type": "code",
   "execution_count": 7,
   "id": "5f6d2503-7122-4549-a26d-0815a6545aed",
   "metadata": {},
   "outputs": [],
   "source": [
    "df = df.drop(\"nameOrig\", \"nameDest\", \"isFlaggedFraud\",\"oldbalanceDest\",\"newbalanceDest\")"
   ]
  },
  {
   "cell_type": "code",
   "execution_count": 8,
   "id": "f2fd79e0-ed11-4010-ba9b-53fbca2cd45b",
   "metadata": {},
   "outputs": [],
   "source": [
    "numeric_cols = [\"step\",\"amount\",\"oldbalanceOrg\",\"newbalanceOrig\"]\n",
    "\n",
    "indexer = StringIndexer(inputCol=\"type\",    outputCol=\"typeIdx\", handleInvalid=\"keep\")\n",
    "encoder = OneHotEncoder(inputCols=[\"typeIdx\"], outputCols=[\"typeVec\"], dropLast=True)\n",
    "assembler =VectorAssembler(inputCols=[\"typeVec\"] + numeric_cols, outputCol=\"features\")\n",
    "\n",
    "pipeline = Pipeline(stages=[indexer, encoder, assembler])\n",
    "prep_model = pipeline.fit(df)\n",
    "df_prepared = prep_model.transform(df)"
   ]
  },
  {
   "cell_type": "code",
   "execution_count": 9,
   "id": "f9223a18-265e-4db7-b3da-2d8b70655abf",
   "metadata": {},
   "outputs": [],
   "source": [
    "n0 = df_prepared.filter(\"isFraud=0\").count()\n",
    "n1 = df_prepared.filter(\"isFraud=1\").count()\n",
    "ratio = n0 / n1\n",
    "\n",
    "# 5) On l’ajoute au DataFrame\n",
    "df_prepared = df_prepared.withColumn(\n",
    "    \"classWeight\",\n",
    "    when(col(\"isFraud\") == 1, lit(ratio)).otherwise(lit(1.0))\n",
    ")"
   ]
  },
  {
   "cell_type": "code",
   "execution_count": 10,
   "id": "0e9bbcce-2e7d-4c24-b484-d6fd5b21243d",
   "metadata": {},
   "outputs": [],
   "source": [
    "train, test = df_prepared.randomSplit([0.8,0.2], seed=42)"
   ]
  },
  {
   "cell_type": "code",
   "execution_count": 11,
   "id": "0f2179fb-655e-4f29-be07-c2fac9e75941",
   "metadata": {},
   "outputs": [
    {
     "name": "stdout",
     "output_type": "stream",
     "text": [
      "+----+-------+--------+-------------+--------------+-------+-------+-------------+--------------------+-----------+\n",
      "|step|   type|  amount|oldbalanceOrg|newbalanceOrig|isFraud|typeIdx|      typeVec|            features|classWeight|\n",
      "+----+-------+--------+-------------+--------------+-------+-------+-------------+--------------------+-----------+\n",
      "|   1|CASH_IN|  270.78|   4184966.65|    4185237.43|      0|    1.0|(5,[1],[1.0])|[0.0,1.0,0.0,0.0,...|        1.0|\n",
      "|   1|CASH_IN|  484.57|   5422437.76|    5422922.33|      0|    1.0|(5,[1],[1.0])|[0.0,1.0,0.0,0.0,...|        1.0|\n",
      "|   1|CASH_IN|  863.08|   9290756.54|    9291619.62|      0|    1.0|(5,[1],[1.0])|[0.0,1.0,0.0,0.0,...|        1.0|\n",
      "|   1|CASH_IN|  911.76|   1335635.48|    1336547.24|      0|    1.0|(5,[1],[1.0])|[0.0,1.0,0.0,0.0,...|        1.0|\n",
      "|   1|CASH_IN| 1076.27|   3538789.28|    3539865.55|      0|    1.0|(5,[1],[1.0])|[0.0,1.0,0.0,0.0,...|        1.0|\n",
      "|   1|CASH_IN| 2099.59|   7096554.61|     7098654.2|      0|    1.0|(5,[1],[1.0])|[0.0,1.0,0.0,0.0,...|        1.0|\n",
      "|   1|CASH_IN| 2673.64|    768815.91|     771489.55|      0|    1.0|(5,[1],[1.0])|[0.0,1.0,0.0,0.0,...|        1.0|\n",
      "|   1|CASH_IN| 4865.48|   7395911.97|    7400777.45|      0|    1.0|(5,[1],[1.0])|[0.0,1.0,0.0,0.0,...|        1.0|\n",
      "|   1|CASH_IN| 5221.77|       1046.0|       6267.77|      0|    1.0|(5,[1],[1.0])|[0.0,1.0,0.0,0.0,...|        1.0|\n",
      "|   1|CASH_IN| 5763.99|   1276098.29|    1281862.28|      0|    1.0|(5,[1],[1.0])|[0.0,1.0,0.0,0.0,...|        1.0|\n",
      "|   1|CASH_IN| 6287.28|   4817829.42|    4824116.71|      0|    1.0|(5,[1],[1.0])|[0.0,1.0,0.0,0.0,...|        1.0|\n",
      "|   1|CASH_IN| 6915.38|   1744028.07|    1750943.45|      0|    1.0|(5,[1],[1.0])|[0.0,1.0,0.0,0.0,...|        1.0|\n",
      "|   1|CASH_IN| 7322.98|   6681389.66|    6688712.64|      0|    1.0|(5,[1],[1.0])|[0.0,1.0,0.0,0.0,...|        1.0|\n",
      "|   1|CASH_IN| 7965.49|    843226.08|     851191.57|      0|    1.0|(5,[1],[1.0])|[0.0,1.0,0.0,0.0,...|        1.0|\n",
      "|   1|CASH_IN| 8261.33|   6501116.17|    6509377.51|      0|    1.0|(5,[1],[1.0])|[0.0,1.0,0.0,0.0,...|        1.0|\n",
      "|   1|CASH_IN| 8921.26|   7684488.84|     7693410.1|      0|    1.0|(5,[1],[1.0])|[0.0,1.0,0.0,0.0,...|        1.0|\n",
      "|   1|CASH_IN| 9067.51|   1469995.06|    1479062.57|      0|    1.0|(5,[1],[1.0])|[0.0,1.0,0.0,0.0,...|        1.0|\n",
      "|   1|CASH_IN| 9467.87|       6071.0|      15538.87|      0|    1.0|(5,[1],[1.0])|[0.0,1.0,0.0,0.0,...|        1.0|\n",
      "|   1|CASH_IN| 10266.7|   3799476.47|    3809743.17|      0|    1.0|(5,[1],[1.0])|[0.0,1.0,0.0,0.0,...|        1.0|\n",
      "|   1|CASH_IN|10844.33|   8623151.43|    8633995.76|      0|    1.0|(5,[1],[1.0])|[0.0,1.0,0.0,0.0,...|        1.0|\n",
      "+----+-------+--------+-------------+--------------+-------+-------+-------------+--------------------+-----------+\n",
      "only showing top 20 rows\n",
      "\n"
     ]
    }
   ],
   "source": [
    "train.show()"
   ]
  },
  {
   "cell_type": "code",
   "execution_count": 12,
   "id": "b9280db9-0ae0-409e-a5a1-976c05b1fdec",
   "metadata": {},
   "outputs": [],
   "source": [
    "lr = LogisticRegression(featuresCol=\"features\", labelCol=\"isFraud\", weightCol=\"classWeight\")\n",
    "lr_model = lr.fit(train)"
   ]
  },
  {
   "cell_type": "code",
   "execution_count": 13,
   "id": "d8f39dca-af2c-48a2-9cb6-34c84162df25",
   "metadata": {},
   "outputs": [],
   "source": [
    "dt = DecisionTreeClassifier(featuresCol=\"features\", labelCol=\"isFraud\", weightCol=\"classWeight\")\n",
    "dt_model = dt.fit(train)"
   ]
  },
  {
   "cell_type": "code",
   "execution_count": 14,
   "id": "231a8633-ca2b-4304-9688-b6c8b84275be",
   "metadata": {},
   "outputs": [],
   "source": [
    "rf = RandomForestClassifier(featuresCol=\"features\", labelCol=\"isFraud\", weightCol=\"classWeight\", numTrees=50, maxDepth=10)\n",
    "rf_model = rf.fit(train)"
   ]
  },
  {
   "cell_type": "code",
   "execution_count": 15,
   "id": "83abd6f5-2c25-49af-a02c-8971dce708df",
   "metadata": {},
   "outputs": [
    {
     "name": "stdout",
     "output_type": "stream",
     "text": [
      "📌 Logistic Regression\n",
      "✅ Logistic Regression - Accuracy: 0.9103\n",
      "   ✔️ areaUnderROC : 0.9925\n",
      "   ✔️ areaUnderPR  : 0.5628\n",
      "\n",
      "📌 Decision Tree\n",
      "✅ Decision Tree - Accuracy: 0.9450\n",
      "   ✔️ areaUnderROC : 0.9774\n",
      "   ✔️ areaUnderPR  : 0.1125\n",
      "\n",
      "📌 Random Forest\n",
      "✅ Random Forest - Accuracy: 0.9745\n",
      "   ✔️ areaUnderROC : 0.9910\n",
      "   ✔️ areaUnderPR  : 0.6137\n",
      "\n"
     ]
    }
   ],
   "source": [
    "models = {\"Logistic Regression\": lr_model, \"Decision Tree\": dt_model, \"Random Forest\": rf_model}\n",
    "evaluator_roc = BinaryClassificationEvaluator(\n",
    "    labelCol=\"isFraud\", rawPredictionCol=\"rawPrediction\", metricName=\"areaUnderROC\")\n",
    "\n",
    "evaluator_pr = BinaryClassificationEvaluator(\n",
    "    labelCol=\"isFraud\", rawPredictionCol=\"rawPrediction\", metricName=\"areaUnderPR\")\n",
    "\n",
    "for name, model in models.items():\n",
    "    pred = model.transform(test)\n",
    "    acc = MulticlassClassificationEvaluator(labelCol=\"isFraud\", predictionCol=\"prediction\", metricName=\"accuracy\").evaluate(pred)\n",
    "    auc_roc = BinaryClassificationEvaluator(labelCol=\"isFraud\", rawPredictionCol=\"rawPrediction\", metricName=\"areaUnderROC\").evaluate(pred)\n",
    "    auc_pr = evaluator_pr.evaluate(pred)\n",
    "    print(f\"📌 {name}\")\n",
    "    print(f\"✅ {name} - Accuracy: {acc:.4f}\")\n",
    "    print(f\"   ✔️ areaUnderROC : {auc_roc:.4f}\")\n",
    "    print(f\"   ✔️ areaUnderPR  : {auc_pr:.4f}\\n\")"
   ]
  },
  {
   "cell_type": "code",
   "execution_count": 16,
   "id": "a9469080-7479-4f9a-8530-4d0af99edfdb",
   "metadata": {},
   "outputs": [
    {
     "name": "stderr",
     "output_type": "stream",
     "text": [
      "/usr/local/spark/python/pyspark/sql/context.py:158: FutureWarning: Deprecated in 3.0.0. Use SparkSession.builder.getOrCreate() instead.\n",
      "  warnings.warn(\n"
     ]
    },
    {
     "name": "stdout",
     "output_type": "stream",
     "text": [
      "Confusion Matrix:\n",
      " [[1904.   48.]\n",
      " [   2.    9.]]\n",
      "Precision (1): 0.1579\n",
      "Recall    (1): 0.8182\n"
     ]
    }
   ],
   "source": [
    "# Matrice de confusion\n",
    "pred_rf = rf_model.transform(test)\n",
    "rdd = pred_rf.select(\"prediction\", \"isFraud\").rdd.map(lambda r: (float(r.prediction), float(r.isFraud)))\n",
    "metrics = MulticlassMetrics(rdd)\n",
    "print(\"Confusion Matrix:\\n\", metrics.confusionMatrix().toArray())\n",
    "print(f\"Precision (1): {metrics.precision(1.0):.4f}\")\n",
    "print(f\"Recall    (1): {metrics.recall(1.0):.4f}\")"
   ]
  },
  {
   "cell_type": "code",
   "execution_count": 17,
   "id": "1add175c-412e-4d52-9632-09715109a07f",
   "metadata": {},
   "outputs": [
    {
     "name": "stdout",
     "output_type": "stream",
     "text": [
      "+--------------------------------------------------------+----------+---------------------------------------+-------+\n",
      "|features                                                |prediction|probability                            |isFraud|\n",
      "+--------------------------------------------------------+----------+---------------------------------------+-------+\n",
      "|[0.0,1.0,0.0,0.0,0.0,1.0,783.31,8150331.93,8151115.24]  |0.0       |[1.0,0.0]                              |0      |\n",
      "|[0.0,1.0,0.0,0.0,0.0,1.0,1271.77,6973823.5,6975095.27]  |0.0       |[1.0,0.0]                              |0      |\n",
      "|[0.0,1.0,0.0,0.0,0.0,1.0,2643.45,6434890.26,6437533.71] |0.0       |[1.0,0.0]                              |0      |\n",
      "|[0.0,1.0,0.0,0.0,0.0,1.0,6284.18,7858787.73,7865071.9]  |0.0       |[1.0,0.0]                              |0      |\n",
      "|[0.0,1.0,0.0,0.0,0.0,1.0,8679.13,7087875.47,7096554.61] |0.0       |[1.0,0.0]                              |0      |\n",
      "|[0.0,1.0,0.0,0.0,0.0,1.0,9577.45,519812.39,529389.85]   |0.0       |[1.0,0.0]                              |0      |\n",
      "|[0.0,1.0,0.0,0.0,0.0,1.0,12336.48,7317899.11,7330235.59]|0.0       |[1.0,0.0]                              |0      |\n",
      "|[0.0,1.0,0.0,0.0,0.0,1.0,16236.25,8268951.34,8285187.59]|0.0       |[1.0,0.0]                              |0      |\n",
      "|[0.0,1.0,0.0,0.0,0.0,1.0,19872.97,3561106.22,3580979.18]|0.0       |[1.0,0.0]                              |0      |\n",
      "|[0.0,1.0,0.0,0.0,0.0,1.0,20490.81,5966015.15,5986505.96]|0.0       |[1.0,0.0]                              |0      |\n",
      "|[0.0,1.0,0.0,0.0,0.0,1.0,21255.8,3113581.47,3134837.27] |0.0       |[1.0,0.0]                              |0      |\n",
      "|[0.0,1.0,0.0,0.0,0.0,1.0,21898.97,7221911.92,7243810.89]|0.0       |[1.0,0.0]                              |0      |\n",
      "|[0.0,1.0,0.0,0.0,0.0,1.0,22765.47,96975.39,119740.86]   |0.0       |[1.0,0.0]                              |0      |\n",
      "|[0.0,1.0,0.0,0.0,0.0,1.0,24936.34,4824116.71,4849053.05]|0.0       |[1.0,0.0]                              |0      |\n",
      "|[0.0,1.0,0.0,0.0,0.0,1.0,27948.65,1180034.22,1207982.87]|0.0       |[1.0,0.0]                              |0      |\n",
      "|[0.0,1.0,0.0,0.0,0.0,1.0,31646.31,5847973.23,5879619.54]|0.0       |[1.0,0.0]                              |0      |\n",
      "|[0.0,1.0,0.0,0.0,0.0,1.0,34918.59,4339680.42,4374599.01]|0.0       |[1.0,0.0]                              |0      |\n",
      "|[0.0,1.0,0.0,0.0,0.0,1.0,44655.46,4451451.72,4496107.18]|0.0       |[0.9893832108661768,0.0106167891338232]|0      |\n",
      "|[0.0,1.0,0.0,0.0,0.0,1.0,49031.62,4549357.8,4598389.42] |0.0       |[0.9893832108661768,0.0106167891338232]|0      |\n",
      "|[0.0,1.0,0.0,0.0,0.0,1.0,51284.87,4133681.78,4184966.65]|0.0       |[0.9893832108661768,0.0106167891338232]|0      |\n",
      "|[0.0,1.0,0.0,0.0,0.0,1.0,51311.41,8037193.29,8088504.7] |0.0       |[0.9893832108661768,0.0106167891338232]|0      |\n",
      "|[0.0,1.0,0.0,0.0,0.0,1.0,53560.68,5685333.94,5738894.62]|0.0       |[0.9893832108661768,0.0106167891338232]|0      |\n",
      "|[0.0,1.0,0.0,0.0,0.0,1.0,57809.81,3434765.61,3492575.42]|0.0       |[0.9893832108661768,0.0106167891338232]|0      |\n",
      "|[0.0,1.0,0.0,0.0,0.0,1.0,58447.8,4354753.26,4413201.07] |0.0       |[0.9893832108661768,0.0106167891338232]|0      |\n",
      "|[0.0,1.0,0.0,0.0,0.0,1.0,65413.89,131622.46,197036.35]  |0.0       |[0.9893832108661768,0.0106167891338232]|0      |\n",
      "|[0.0,1.0,0.0,0.0,0.0,1.0,66413.56,7197141.06,7263554.62]|0.0       |[0.9893832108661768,0.0106167891338232]|0      |\n",
      "|[0.0,1.0,0.0,0.0,0.0,1.0,69865.39,4381586.33,4451451.72]|0.0       |[0.9893832108661768,0.0106167891338232]|0      |\n",
      "|[0.0,1.0,0.0,0.0,0.0,1.0,71176.26,4506017.53,4577193.8] |0.0       |[0.9893832108661768,0.0106167891338232]|0      |\n",
      "|[0.0,1.0,0.0,0.0,0.0,1.0,72897.92,6666214.43,6739112.35]|0.0       |[0.9893832108661768,0.0106167891338232]|0      |\n",
      "|[0.0,1.0,0.0,0.0,0.0,1.0,79285.8,3355479.81,3434765.61] |0.0       |[0.9893832108661768,0.0106167891338232]|0      |\n",
      "+--------------------------------------------------------+----------+---------------------------------------+-------+\n",
      "only showing top 30 rows\n",
      "\n",
      "+---------------------------------------------+----------+-----------------------------------------+-------+\n",
      "|features                                     |prediction|probability                              |isFraud|\n",
      "+---------------------------------------------+----------+-----------------------------------------+-------+\n",
      "|(9,[3,5,6,7],[1.0,1.0,181.0,181.0])          |0.0       |[0.7123315153558155,0.2876684846441845]  |1      |\n",
      "|(9,[3,5,6,7],[1.0,1.0,235238.66,235238.66])  |1.0       |[0.28759087712460435,0.7124091228753956] |1      |\n",
      "|(9,[2,5,6,7],[1.0,2.0,14949.84,14949.84])    |1.0       |[0.1129377413661864,0.8870622586338136]  |1      |\n",
      "|(9,[3,5,6,7],[1.0,2.0,18627.02,18627.02])    |1.0       |[0.11652531569273154,0.8834746843072685] |1      |\n",
      "|(9,[3,5,6,7],[1.0,4.0,2930418.44,2930418.44])|1.0       |[0.3120374608539844,0.6879625391460157]  |1      |\n",
      "|(9,[3,5,6,7],[1.0,5.0,120074.73,120074.73])  |1.0       |[0.38938642474645135,0.6106135752535485] |1      |\n",
      "|(9,[2,5,6,7],[1.0,6.0,13704.0,13704.0])      |1.0       |[0.04660548299950641,0.9533945170004936] |1      |\n",
      "|(9,[2,5,6,7],[1.0,6.0,216422.0,216422.0])    |1.0       |[0.21499144263207198,0.7850085573679281] |1      |\n",
      "|(9,[3,5,6,7],[1.0,6.0,26768.5,26768.5])      |1.0       |[0.041222982873118465,0.9587770171268815]|1      |\n",
      "|(9,[3,5,6,7],[1.0,6.0,85354.69,85354.69])    |1.0       |[0.36487289632714043,0.6351271036728595] |1      |\n",
      "|(9,[2,5,6,7],[1.0,7.0,262434.54,262434.54])  |0.0       |[0.5916502168271695,0.40834978317283055] |1      |\n",
      "+---------------------------------------------+----------+-----------------------------------------+-------+\n",
      "\n"
     ]
    }
   ],
   "source": [
    "# Exemple avec Random Forest (ou remplace par ton modèle préféré)\n",
    "predictions = rf_model.transform(test)\n",
    "\n",
    "# Affichage des colonnes utiles\n",
    "predictions.select(\"features\", \"prediction\", \"probability\", \"isFraud\").show(30, truncate=False)\n",
    "predictions.filter(\"isFraud = 1\").select(\"features\", \"prediction\", \"probability\", \"isFraud\").show(30, truncate=False)"
   ]
  },
  {
   "cell_type": "code",
   "execution_count": 21,
   "id": "9f5e1992-8b5b-40cc-bb76-1b3f4d2e94fd",
   "metadata": {},
   "outputs": [],
   "source": [
    "# Sauvegarde correcte dans HDFS avec nom de service valide\n",
    "rf_model.save(\"hdfs://namenode:9000/user/jovyan/models/RF_fraud_model\")"
   ]
  },
  {
   "cell_type": "code",
   "execution_count": null,
   "id": "75fbaa65-c17b-415d-8b31-cf257a2ce5e5",
   "metadata": {},
   "outputs": [],
   "source": []
  }
 ],
 "metadata": {
  "kernelspec": {
   "display_name": "Python 3 (ipykernel)",
   "language": "python",
   "name": "python3"
  },
  "language_info": {
   "codemirror_mode": {
    "name": "ipython",
    "version": 3
   },
   "file_extension": ".py",
   "mimetype": "text/x-python",
   "name": "python",
   "nbconvert_exporter": "python",
   "pygments_lexer": "ipython3",
   "version": "3.11.6"
  }
 },
 "nbformat": 4,
 "nbformat_minor": 5
}
