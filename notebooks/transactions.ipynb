{
 "cells": [
  {
   "cell_type": "code",
   "execution_count": 9,
   "id": "5092c325-35bb-4064-805f-993ed0fc8ca8",
   "metadata": {
    "scrolled": true
   },
   "outputs": [
    {
     "name": "stdout",
     "output_type": "stream",
     "text": [
      "Status code: 200\n",
      "Response: {'prediction': 0, 'probability': [0.7842817214944077, 0.21571827850559241]}\n"
     ]
    }
   ],
   "source": [
    "import requests\n",
    "\n",
    "transaction = {\n",
    "    \"type\": \"TRANSFER\",\n",
    "    \"step\": 4,\n",
    "    \"amount\": 5000000.0,\n",
    "    \"oldbalanceOrg\": 1000.0,\n",
    "    \"newbalanceOrig\": 500.0\n",
    "}\n",
    "\n",
    "url = \"http://api:5000/predict\"  # nom du service dans docker-compose\n",
    "response = requests.post(url, json=transaction)\n",
    "\n",
    "print(\"Status code:\", response.status_code)\n",
    "print(\"Response:\", response.json())\n"
   ]
  },
  {
   "cell_type": "code",
   "execution_count": null,
   "id": "16335ff3-a1b0-4fe5-8f13-89e3861abfe1",
   "metadata": {},
   "outputs": [],
   "source": []
  }
 ],
 "metadata": {
  "kernelspec": {
   "display_name": "Python 3 (ipykernel)",
   "language": "python",
   "name": "python3"
  },
  "language_info": {
   "codemirror_mode": {
    "name": "ipython",
    "version": 3
   },
   "file_extension": ".py",
   "mimetype": "text/x-python",
   "name": "python",
   "nbconvert_exporter": "python",
   "pygments_lexer": "ipython3",
   "version": "3.11.6"
  }
 },
 "nbformat": 4,
 "nbformat_minor": 5
}
